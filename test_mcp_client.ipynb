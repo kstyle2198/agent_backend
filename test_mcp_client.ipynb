{
 "cells": [
  {
   "cell_type": "code",
   "execution_count": 1,
   "id": "e377e059",
   "metadata": {},
   "outputs": [
    {
     "data": {
      "text/plain": [
       "True"
      ]
     },
     "execution_count": 1,
     "metadata": {},
     "output_type": "execute_result"
    }
   ],
   "source": [
    "from langchain_mcp_adapters.client import MultiServerMCPClient\n",
    "from langgraph.prebuilt import create_react_agent\n",
    "from langchain_groq import ChatGroq\n",
    "from dotenv import load_dotenv\n",
    "load_dotenv(override=True)"
   ]
  },
  {
   "cell_type": "code",
   "execution_count": 2,
   "id": "a72b2536",
   "metadata": {},
   "outputs": [
    {
     "name": "stdout",
     "output_type": "stream",
     "text": [
      "['wiki_search', 'safety_search', 'tech_paper_search']\n"
     ]
    },
    {
     "data": {
      "text/plain": [
       "[StructuredTool(name='wiki_search', description='Do Search\\n\\n### Responses:\\n\\n**200**: Successful Response (Success Response)\\nContent-Type: application/json\\n\\n**Output Schema:**\\n```json\\n{}\\n```\\n**422**: Validation Error\\nContent-Type: application/json\\n\\n**Example Response:**\\n```json\\n{\\n  \"detail\": [\\n    {\\n      \"loc\": [],\\n      \"msg\": \"Message\",\\n      \"type\": \"Error Type\"\\n    }\\n  ]\\n}\\n```\\n\\n**Output Schema:**\\n```json\\n{\\n  \"properties\": {\\n    \"detail\": {\\n      \"items\": {\\n        \"properties\": {\\n          \"loc\": {\\n            \"items\": {},\\n            \"type\": \"array\",\\n            \"title\": \"Location\"\\n          },\\n          \"msg\": {\\n            \"type\": \"string\",\\n            \"title\": \"Message\"\\n          },\\n          \"type\": {\\n            \"type\": \"string\",\\n            \"title\": \"Error Type\"\\n          }\\n        },\\n        \"type\": \"object\",\\n        \"required\": [\\n          \"loc\",\\n          \"msg\",\\n          \"type\"\\n        ],\\n        \"title\": \"ValidationError\"\\n      },\\n      \"type\": \"array\",\\n      \"title\": \"Detail\"\\n    }\\n  },\\n  \"type\": \"object\",\\n  \"title\": \"HTTPValidationError\"\\n}\\n```', args_schema={'type': 'object', 'properties': {'query': {'type': 'string', 'title': 'query'}}, 'title': 'wiki_searchArguments', 'required': ['query']}, response_format='content_and_artifact', coroutine=<function convert_mcp_tool_to_langchain_tool.<locals>.call_tool at 0x00000220C3318CC0>),\n",
       " StructuredTool(name='safety_search', description='Search Documents\\n\\nEndpoint to search documents based on a question.\\nPerforms retrieval from vector store and web search, then reranks results.\\n\\n### Responses:\\n\\n**200**: Successful Response (Success Response)\\nContent-Type: application/json\\n\\n**Example Response:**\\n```json\\n{\\n  \"refined_question\": \"Refined Question\",\\n  \"documents\": [\\n    {}\\n  ],\\n  \"scores\": [\\n    1.0\\n  ],\\n  \"questions_history\": [\\n    \"string\"\\n  ],\\n  \"search_results_history\": [\\n    [\\n      {}\\n    ]\\n  ],\\n  \"reranked_results_history\": [\\n    [\\n      {}\\n    ]\\n  ],\\n  \"rerank_scores_history\": [\\n    [\\n      1.0\\n    ]\\n  ]\\n}\\n```\\n\\n**Output Schema:**\\n```json\\n{\\n  \"properties\": {\\n    \"refined_question\": {\\n      \"type\": \"string\",\\n      \"title\": \"Refined Question\"\\n    },\\n    \"documents\": {\\n      \"items\": {\\n        \"additionalProperties\": true,\\n        \"type\": \"object\"\\n      },\\n      \"type\": \"array\",\\n      \"title\": \"Documents\"\\n    },\\n    \"scores\": {\\n      \"items\": {\\n        \"type\": \"number\"\\n      },\\n      \"type\": \"array\",\\n      \"title\": \"Scores\"\\n    },\\n    \"questions_history\": {\\n      \"items\": {\\n        \"type\": \"string\"\\n      },\\n      \"type\": \"array\",\\n      \"title\": \"Questions History\"\\n    },\\n    \"search_results_history\": {\\n      \"items\": {\\n        \"items\": {\\n          \"additionalProperties\": true,\\n          \"type\": \"object\"\\n        },\\n        \"type\": \"array\"\\n      },\\n      \"type\": \"array\",\\n      \"title\": \"Search Results History\"\\n    },\\n    \"reranked_results_history\": {\\n      \"items\": {\\n        \"items\": {\\n          \"additionalProperties\": true,\\n          \"type\": \"object\"\\n        },\\n        \"type\": \"array\"\\n      },\\n      \"type\": \"array\",\\n      \"title\": \"Reranked Results History\"\\n    },\\n    \"rerank_scores_history\": {\\n      \"items\": {\\n        \"items\": {\\n          \"type\": \"number\"\\n        },\\n        \"type\": \"array\"\\n      },\\n      \"type\": \"array\",\\n      \"title\": \"Rerank Scores History\"\\n    }\\n  },\\n  \"type\": \"object\",\\n  \"required\": [\\n    \"refined_question\",\\n    \"documents\",\\n    \"scores\",\\n    \"questions_history\",\\n    \"search_results_history\",\\n    \"reranked_results_history\",\\n    \"rerank_scores_history\"\\n  ],\\n  \"title\": \"SearchResponse\"\\n}\\n```\\n**422**: Validation Error\\nContent-Type: application/json\\n\\n**Example Response:**\\n```json\\n{\\n  \"detail\": [\\n    {\\n      \"loc\": [],\\n      \"msg\": \"Message\",\\n      \"type\": \"Error Type\"\\n    }\\n  ]\\n}\\n```\\n\\n**Output Schema:**\\n```json\\n{\\n  \"properties\": {\\n    \"detail\": {\\n      \"items\": {\\n        \"properties\": {\\n          \"loc\": {\\n            \"items\": {},\\n            \"type\": \"array\",\\n            \"title\": \"Location\"\\n          },\\n          \"msg\": {\\n            \"type\": \"string\",\\n            \"title\": \"Message\"\\n          },\\n          \"type\": {\\n            \"type\": \"string\",\\n            \"title\": \"Error Type\"\\n          }\\n        },\\n        \"type\": \"object\",\\n        \"required\": [\\n          \"loc\",\\n          \"msg\",\\n          \"type\"\\n        ],\\n        \"title\": \"ValidationError\"\\n      },\\n      \"type\": \"array\",\\n      \"title\": \"Detail\"\\n    }\\n  },\\n  \"type\": \"object\",\\n  \"title\": \"HTTPValidationError\"\\n}\\n```', args_schema={'type': 'object', 'properties': {'question': {'type': 'string', 'title': 'question'}, 'top_k': {'additionalProperties': True, 'type': 'object', 'title': 'top_k', 'default': {'doc': 3, 'web': 2}}, 'rerank_k': {'anyOf': [{'type': 'integer'}, {'type': 'null'}], 'title': 'rerank_k', 'default': 3, 'type': 'integer'}, 'rerank_threshold': {'anyOf': [{'type': 'number'}, {'type': 'null'}], 'title': 'rerank_threshold', 'default': 0.01, 'type': 'number'}, 'session_id': {'type': 'string', 'title': 'session_id'}}, 'title': 'safety_searchArguments', 'required': ['question']}, response_format='content_and_artifact', coroutine=<function convert_mcp_tool_to_langchain_tool.<locals>.call_tool at 0x00000220C34191C0>),\n",
       " StructuredTool(name='tech_paper_search', description='Search Documents\\n\\nEndpoint to search documents based on a question.\\nPerforms retrieval from Arxiv and web search, then reranks results.\\n\\n### Responses:\\n\\n**200**: Successful Response (Success Response)\\nContent-Type: application/json\\n\\n**Example Response:**\\n```json\\n{\\n  \"refined_question\": \"Refined Question\",\\n  \"documents\": [\\n    {}\\n  ],\\n  \"scores\": [\\n    1.0\\n  ],\\n  \"questions_history\": [\\n    \"string\"\\n  ],\\n  \"search_results_history\": [\\n    [\\n      {}\\n    ]\\n  ],\\n  \"reranked_results_history\": [\\n    [\\n      {}\\n    ]\\n  ],\\n  \"rerank_scores_history\": [\\n    [\\n      1.0\\n    ]\\n  ]\\n}\\n```\\n\\n**Output Schema:**\\n```json\\n{\\n  \"properties\": {\\n    \"refined_question\": {\\n      \"type\": \"string\",\\n      \"title\": \"Refined Question\"\\n    },\\n    \"documents\": {\\n      \"items\": {\\n        \"additionalProperties\": true,\\n        \"type\": \"object\"\\n      },\\n      \"type\": \"array\",\\n      \"title\": \"Documents\"\\n    },\\n    \"scores\": {\\n      \"items\": {\\n        \"type\": \"number\"\\n      },\\n      \"type\": \"array\",\\n      \"title\": \"Scores\"\\n    },\\n    \"questions_history\": {\\n      \"items\": {\\n        \"type\": \"string\"\\n      },\\n      \"type\": \"array\",\\n      \"title\": \"Questions History\"\\n    },\\n    \"search_results_history\": {\\n      \"items\": {\\n        \"items\": {\\n          \"additionalProperties\": true,\\n          \"type\": \"object\"\\n        },\\n        \"type\": \"array\"\\n      },\\n      \"type\": \"array\",\\n      \"title\": \"Search Results History\"\\n    },\\n    \"reranked_results_history\": {\\n      \"items\": {\\n        \"items\": {\\n          \"additionalProperties\": true,\\n          \"type\": \"object\"\\n        },\\n        \"type\": \"array\"\\n      },\\n      \"type\": \"array\",\\n      \"title\": \"Reranked Results History\"\\n    },\\n    \"rerank_scores_history\": {\\n      \"items\": {\\n        \"items\": {\\n          \"type\": \"number\"\\n        },\\n        \"type\": \"array\"\\n      },\\n      \"type\": \"array\",\\n      \"title\": \"Rerank Scores History\"\\n    }\\n  },\\n  \"type\": \"object\",\\n  \"required\": [\\n    \"refined_question\",\\n    \"documents\",\\n    \"scores\",\\n    \"questions_history\",\\n    \"search_results_history\",\\n    \"reranked_results_history\",\\n    \"rerank_scores_history\"\\n  ],\\n  \"title\": \"SearchResponse\"\\n}\\n```\\n**422**: Validation Error\\nContent-Type: application/json\\n\\n**Example Response:**\\n```json\\n{\\n  \"detail\": [\\n    {\\n      \"loc\": [],\\n      \"msg\": \"Message\",\\n      \"type\": \"Error Type\"\\n    }\\n  ]\\n}\\n```\\n\\n**Output Schema:**\\n```json\\n{\\n  \"properties\": {\\n    \"detail\": {\\n      \"items\": {\\n        \"properties\": {\\n          \"loc\": {\\n            \"items\": {},\\n            \"type\": \"array\",\\n            \"title\": \"Location\"\\n          },\\n          \"msg\": {\\n            \"type\": \"string\",\\n            \"title\": \"Message\"\\n          },\\n          \"type\": {\\n            \"type\": \"string\",\\n            \"title\": \"Error Type\"\\n          }\\n        },\\n        \"type\": \"object\",\\n        \"required\": [\\n          \"loc\",\\n          \"msg\",\\n          \"type\"\\n        ],\\n        \"title\": \"ValidationError\"\\n      },\\n      \"type\": \"array\",\\n      \"title\": \"Detail\"\\n    }\\n  },\\n  \"type\": \"object\",\\n  \"title\": \"HTTPValidationError\"\\n}\\n```', args_schema={'type': 'object', 'properties': {'question': {'type': 'string', 'title': 'question'}, 'top_k': {'additionalProperties': True, 'type': 'object', 'title': 'top_k', 'default': {'doc': 3, 'web': 2, 'arxiv': 5}}, 'rerank_k': {'anyOf': [{'type': 'integer'}, {'type': 'null'}], 'title': 'rerank_k', 'default': 3, 'type': 'integer'}, 'rerank_threshold': {'anyOf': [{'type': 'number'}, {'type': 'null'}], 'title': 'rerank_threshold', 'default': 0.01, 'type': 'number'}, 'session_id': {'type': 'string', 'title': 'session_id'}}, 'title': 'tech_paper_searchArguments', 'required': ['question']}, response_format='content_and_artifact', coroutine=<function convert_mcp_tool_to_langchain_tool.<locals>.call_tool at 0x00000220C34198A0>)]"
      ]
     },
     "execution_count": 2,
     "metadata": {},
     "output_type": "execute_result"
    }
   ],
   "source": [
    "async def get_tools():\n",
    "    # 서버 설정 정의\n",
    "    server_config = {\n",
    "        \"search\": {\n",
    "            \"url\": \"http://localhost:8000/mcp\",\n",
    "            \"transport\": \"sse\",\n",
    "            },\n",
    "        }\n",
    "\n",
    "    # 1. 'async with'를 제거하고 클라이언트를 직접 생성합니다.\n",
    "    client = MultiServerMCPClient(server_config)\n",
    "    \n",
    "    # 2. 'await'를 사용하여 비동기적으로 도구를 가져옵니다.\n",
    "    tools = await client.get_tools()\n",
    "    return tools\n",
    "\n",
    "tools = await get_tools()\n",
    "tool_names = [tool.name for tool in tools]\n",
    "print(tool_names)\n",
    "tools"
   ]
  },
  {
   "cell_type": "code",
   "execution_count": 4,
   "id": "957e4957",
   "metadata": {},
   "outputs": [],
   "source": [
    "import nest_asyncio\n",
    "import asyncio\n",
    "\n",
    "nest_asyncio.apply()\n",
    "from langchain_mcp_adapters.client import MultiServerMCPClient\n",
    "# Add other necessary imports like ChatGroq, create_react_agent etc.\n",
    "\n",
    "async def main(tools:list, query:str):\n",
    "\n",
    "    # 서버 설정 정의\n",
    "    server_config = {\n",
    "        \"search\": {\n",
    "            \"url\": \"http://localhost:8000/mcp\",\n",
    "            \"transport\": \"sse\",\n",
    "            },\n",
    "        }\n",
    "\n",
    "    # 1. 'async with'를 제거하고 클라이언트를 직접 생성합니다.\n",
    "    client = MultiServerMCPClient(server_config)\n",
    "    \n",
    "    # 2. 'await'를 사용하여 비동기적으로 도구를 가져옵니다.\n",
    "    tools = await client.get_tools()\n",
    "    \n",
    "    model = ChatGroq(\n",
    "            model= \"qwen/qwen3-32b\", \n",
    "            temperature=0.5,\n",
    "            max_tokens=1000,\n",
    "            )\n",
    "        \n",
    "    prompt = \"\"\"\n",
    "        You are the Smart AI Assistant in a company.\n",
    "        Based on the result of tool calling, Generate a consice and logical answer.\n",
    "        and if there is no relevant infomation in the tool calling result, Just say 'I don't know'\n",
    "        \"\"\"\n",
    "    \n",
    "    agent = create_react_agent(model=model, tools=tools, prompt=prompt)\n",
    "    \n",
    "    inputs = {\"messages\": [(\"user\", query)]}\n",
    "    return await agent.ainvoke(inputs, stream_mode=\"values\")"
   ]
  },
  {
   "cell_type": "code",
   "execution_count": 6,
   "id": "d435efd0",
   "metadata": {},
   "outputs": [
    {
     "data": {
      "text/plain": [
       "[StructuredTool(name='wiki_search', description='Do Search\\n\\n### Responses:\\n\\n**200**: Successful Response (Success Response)\\nContent-Type: application/json\\n\\n**Output Schema:**\\n```json\\n{}\\n```\\n**422**: Validation Error\\nContent-Type: application/json\\n\\n**Example Response:**\\n```json\\n{\\n  \"detail\": [\\n    {\\n      \"loc\": [],\\n      \"msg\": \"Message\",\\n      \"type\": \"Error Type\"\\n    }\\n  ]\\n}\\n```\\n\\n**Output Schema:**\\n```json\\n{\\n  \"properties\": {\\n    \"detail\": {\\n      \"items\": {\\n        \"properties\": {\\n          \"loc\": {\\n            \"items\": {},\\n            \"type\": \"array\",\\n            \"title\": \"Location\"\\n          },\\n          \"msg\": {\\n            \"type\": \"string\",\\n            \"title\": \"Message\"\\n          },\\n          \"type\": {\\n            \"type\": \"string\",\\n            \"title\": \"Error Type\"\\n          }\\n        },\\n        \"type\": \"object\",\\n        \"required\": [\\n          \"loc\",\\n          \"msg\",\\n          \"type\"\\n        ],\\n        \"title\": \"ValidationError\"\\n      },\\n      \"type\": \"array\",\\n      \"title\": \"Detail\"\\n    }\\n  },\\n  \"type\": \"object\",\\n  \"title\": \"HTTPValidationError\"\\n}\\n```', args_schema={'type': 'object', 'properties': {'query': {'type': 'string', 'title': 'query'}}, 'title': 'wiki_searchArguments', 'required': ['query']}, response_format='content_and_artifact', coroutine=<function convert_mcp_tool_to_langchain_tool.<locals>.call_tool at 0x00000220C3318CC0>),\n",
       " StructuredTool(name='safety_search', description='Search Documents\\n\\nEndpoint to search documents based on a question.\\nPerforms retrieval from vector store and web search, then reranks results.\\n\\n### Responses:\\n\\n**200**: Successful Response (Success Response)\\nContent-Type: application/json\\n\\n**Example Response:**\\n```json\\n{\\n  \"refined_question\": \"Refined Question\",\\n  \"documents\": [\\n    {}\\n  ],\\n  \"scores\": [\\n    1.0\\n  ],\\n  \"questions_history\": [\\n    \"string\"\\n  ],\\n  \"search_results_history\": [\\n    [\\n      {}\\n    ]\\n  ],\\n  \"reranked_results_history\": [\\n    [\\n      {}\\n    ]\\n  ],\\n  \"rerank_scores_history\": [\\n    [\\n      1.0\\n    ]\\n  ]\\n}\\n```\\n\\n**Output Schema:**\\n```json\\n{\\n  \"properties\": {\\n    \"refined_question\": {\\n      \"type\": \"string\",\\n      \"title\": \"Refined Question\"\\n    },\\n    \"documents\": {\\n      \"items\": {\\n        \"additionalProperties\": true,\\n        \"type\": \"object\"\\n      },\\n      \"type\": \"array\",\\n      \"title\": \"Documents\"\\n    },\\n    \"scores\": {\\n      \"items\": {\\n        \"type\": \"number\"\\n      },\\n      \"type\": \"array\",\\n      \"title\": \"Scores\"\\n    },\\n    \"questions_history\": {\\n      \"items\": {\\n        \"type\": \"string\"\\n      },\\n      \"type\": \"array\",\\n      \"title\": \"Questions History\"\\n    },\\n    \"search_results_history\": {\\n      \"items\": {\\n        \"items\": {\\n          \"additionalProperties\": true,\\n          \"type\": \"object\"\\n        },\\n        \"type\": \"array\"\\n      },\\n      \"type\": \"array\",\\n      \"title\": \"Search Results History\"\\n    },\\n    \"reranked_results_history\": {\\n      \"items\": {\\n        \"items\": {\\n          \"additionalProperties\": true,\\n          \"type\": \"object\"\\n        },\\n        \"type\": \"array\"\\n      },\\n      \"type\": \"array\",\\n      \"title\": \"Reranked Results History\"\\n    },\\n    \"rerank_scores_history\": {\\n      \"items\": {\\n        \"items\": {\\n          \"type\": \"number\"\\n        },\\n        \"type\": \"array\"\\n      },\\n      \"type\": \"array\",\\n      \"title\": \"Rerank Scores History\"\\n    }\\n  },\\n  \"type\": \"object\",\\n  \"required\": [\\n    \"refined_question\",\\n    \"documents\",\\n    \"scores\",\\n    \"questions_history\",\\n    \"search_results_history\",\\n    \"reranked_results_history\",\\n    \"rerank_scores_history\"\\n  ],\\n  \"title\": \"SearchResponse\"\\n}\\n```\\n**422**: Validation Error\\nContent-Type: application/json\\n\\n**Example Response:**\\n```json\\n{\\n  \"detail\": [\\n    {\\n      \"loc\": [],\\n      \"msg\": \"Message\",\\n      \"type\": \"Error Type\"\\n    }\\n  ]\\n}\\n```\\n\\n**Output Schema:**\\n```json\\n{\\n  \"properties\": {\\n    \"detail\": {\\n      \"items\": {\\n        \"properties\": {\\n          \"loc\": {\\n            \"items\": {},\\n            \"type\": \"array\",\\n            \"title\": \"Location\"\\n          },\\n          \"msg\": {\\n            \"type\": \"string\",\\n            \"title\": \"Message\"\\n          },\\n          \"type\": {\\n            \"type\": \"string\",\\n            \"title\": \"Error Type\"\\n          }\\n        },\\n        \"type\": \"object\",\\n        \"required\": [\\n          \"loc\",\\n          \"msg\",\\n          \"type\"\\n        ],\\n        \"title\": \"ValidationError\"\\n      },\\n      \"type\": \"array\",\\n      \"title\": \"Detail\"\\n    }\\n  },\\n  \"type\": \"object\",\\n  \"title\": \"HTTPValidationError\"\\n}\\n```', args_schema={'type': 'object', 'properties': {'question': {'type': 'string', 'title': 'question'}, 'top_k': {'additionalProperties': True, 'type': 'object', 'title': 'top_k', 'default': {'doc': 3, 'web': 2}}, 'rerank_k': {'anyOf': [{'type': 'integer'}, {'type': 'null'}], 'title': 'rerank_k', 'default': 3, 'type': 'integer'}, 'rerank_threshold': {'anyOf': [{'type': 'number'}, {'type': 'null'}], 'title': 'rerank_threshold', 'default': 0.01, 'type': 'number'}, 'session_id': {'type': 'string', 'title': 'session_id'}}, 'title': 'safety_searchArguments', 'required': ['question']}, response_format='content_and_artifact', coroutine=<function convert_mcp_tool_to_langchain_tool.<locals>.call_tool at 0x00000220C34191C0>)]"
      ]
     },
     "execution_count": 6,
     "metadata": {},
     "output_type": "execute_result"
    }
   ],
   "source": [
    "sel_tools = tools[0:2]\n",
    "sel_tools"
   ]
  },
  {
   "cell_type": "code",
   "execution_count": 12,
   "id": "d7dac4d0",
   "metadata": {},
   "outputs": [
    {
     "data": {
      "text/plain": [
       "{'messages': [HumanMessage(content='knowledge distillation', additional_kwargs={}, response_metadata={}, id='7f0bc9d7-643b-4fbf-9952-115d4661db49'),\n",
       "  AIMessage(content='', additional_kwargs={'reasoning_content': 'Okay, the user asked about \"knowledge distillation.\" Let me think about how to approach this.\\n\\nFirst, I need to recall what knowledge distillation is. From what I remember, it\\'s a technique in machine learning where a smaller model, called the student model, is trained to mimic the behavior of a larger, more complex model known as the teacher model. The idea is to transfer the knowledge from the teacher to the student so that the student can achieve similar performance but with lower computational costs.\\n\\nBut wait, maybe I should verify this. Let me consider using the wiki_search function to get a concise definition. The user might want a clear explanation without too much jargon. Alternatively, if the safety_search or tech_paper_search functions have relevant information, those could provide more detailed insights, especially if there are recent advancements or applications in technical papers.\\n\\nLet me check the tools available. The wiki_search function takes a query parameter. If I use that with \"knowledge distillation,\" it should fetch a general overview. The tech_paper_search might give more in-depth academic perspectives. However, since the user\\'s query is straightforward, maybe starting with wiki_search is sufficient.\\n\\nWait, the user hasn\\'t specified if they need academic papers or just a general explanation. Since the question is general, I\\'ll proceed with wiki_search first. If the result is insufficient, I can then use tech_paper_search for more details. Let me call wiki_search with the query \"knowledge distillation.\"\\n', 'tool_calls': [{'id': '2hdys6eh5', 'function': {'arguments': '{\"query\":\"knowledge distillation\"}', 'name': 'wiki_search'}, 'type': 'function'}]}, response_metadata={'token_usage': {'completion_tokens': 321, 'prompt_tokens': 528, 'total_tokens': 849, 'completion_time': 0.682133366, 'prompt_time': 0.024649924, 'queue_time': 0.056214627, 'total_time': 0.70678329}, 'model_name': 'qwen/qwen3-32b', 'system_fingerprint': 'fp_f17c2eb555', 'service_tier': 'on_demand', 'finish_reason': 'tool_calls', 'logprobs': None}, id='run--0704edcb-4d61-45d6-9add-f31941f118cd-0', tool_calls=[{'name': 'wiki_search', 'args': {'query': 'knowledge distillation'}, 'id': '2hdys6eh5', 'type': 'tool_call'}], usage_metadata={'input_tokens': 528, 'output_tokens': 321, 'total_tokens': 849}),\n",
       "  ToolMessage(content='{\\n  \"results\": [\\n    {\\n      \"Page\": \"지식 증류\",\\n      \"Summary\": \"지식 증류(知識蒸溜, knowledge distillation)는 지식을 증류한다는 뜻으로 서로 다른 기계학습 모델의 지식을 전하는 기법이다. 기계 학습에서 지식 증류 또는 모델 증류는 큰 모델에서 작은 모델로 지식을 전달하는 프로세스이다. 대규모 모델(예: 매우 심층적인 신경망 또는 여러 모델의 앙상블)은 소규모 모델보다 지식 용량이 높지만 이 용량이 완전히 활용되지 않을 수 있다. 모델이 지식 용량을 거의 활용하지 않더라도 모델을 평가하는 데 계산 비용이 많이 들 수 있다. 지식 증류는 유효성 손실 없이 큰 모델의 지식을 작은 모델로 이전한다. 소형 모델은 평가 비용이 저렴하므로 덜 강력한 하드웨어(예: 모바일 장치)에 배포할 수 있다. 지식 증류는 객체 감지, 음향 모델 및 자연어 처리와 같은 기계 학습의 여러 응용 분야에서 성공적으로 사용되었다. 최근에는 그리드가 아닌 데이터에 적용 가능한 그래프 신경망에도 도입되었다.\"\\n    },\\n    {\\n      \"Page\": \"증류\",\\n      \"Summary\": \"증류(蒸溜)는 상대휘발도(끓는점)의 차이를 이용하여 액체 상태의 혼합물을 분리하는 방법이다. 두 혼합물의 화학 반응 없이 물리적인 분리가 이루어지는 경우를 말한다. 영리적인 목적의 증류는 석유를 증류하여 휘발유, 경유, 등유와 같은 여러 종류의 연료로 분리하는 데에서부터, 공기를 증류하여 아르곤과 같은 특수한 기체를 얻는 데 이르기까지 광범위하게 사용된다. 고체와 액체의 혼합물은 무게, 입자의 크기, 용해도의 차이 등을 이용하여 분리시킬 수 있지만 물과 에틸알코올처럼 액체와 액체의 혼합물을 분리시킬 때나 소금물에서 물만을 분리해내는 경우 등은 다른 방법이 필요하다. 물질은 각각 일정한 끓는점을 가지고 있다. 따라서, 끓는점의 차이가 있는 혼합물을 가열하면 끓는점이 낮은 것이 먼저 증기가 되어 나오므로 이것을 냉각시켜 액체로 환원하여 모으면 분리시킬 수 있다. 이것을 증류라고 한다. 물의 끓는점은 1기압하에서 100 °C, 메탄올(메틸알코올)은 64.7 °C이므로 이 혼합물을 기열하면 메탄올이 먼저 증기가 되어 나온다. 단, 물도 다소 섞여 나오므로 한번의 증류로 완전히 분리하기는 어렵다. 처음에는 메탄올의 끓는점 부근의 온도 범위 내에서 나오는 증기를 모으고, 이것을 몇 번 되풀이하여 증류하면 차차 순수한 것을 얻을 수 있다. 이것을 재증류라고 한다. 증류의 초기에 나오는 증기에는 휘발성이 큰 불순물이나 증류 장치 내의 불순물이 섞여서 나오므로 이 부분을 버린다. 이것을 전류분이라고 한다. 또, 증류 플라스크 속의 액체를 완전히 증류하면 남아 있는 비휘발성인 불순물이 섞여 나올 가능성이 있으므로 조금 남겨서 버린다. 이것을 후류분이라고 한다.\"\\n    }\\n  ]\\n}', name='wiki_search', id='559c6001-726b-47d9-bb5a-91ab77eba7cd', tool_call_id='2hdys6eh5'),\n",
       "  AIMessage(content='지식 증류(knowledge distillation)는 기계 학습에서 대규모 모델(예: 심층 신경망 또는 앙상블 모델)이 소유한 지식을 소형 모델로 이전하는 기법입니다. 이 과정을 통해 소형 모델은 큰 모델의 성능을 유지하면서도 계산 비용이 낮아져 모바일 장치 등 하드웨어 자원이 제한된 환경에서도 효율적으로 사용할 수 있습니다. 주요 응용 분야로는 객체 감지, 음향 모델, 자연어 처리 등이 있으며, 최근에는 그래프 신경망에도 확장되어 적용되고 있습니다.', additional_kwargs={'reasoning_content': 'Okay, the user asked about \"knowledge distillation.\" I need to provide a concise and logical answer based on the tool call results.\\n\\nFirst, looking at the wiki_search results, there\\'s a page titled \"지식 증류\" which directly explains knowledge distillation. The summary mentions it\\'s a technique in machine learning where knowledge is transferred from a larger model to a smaller one. The key points are that large models have higher capacity but are computationally expensive, while smaller models are more efficient for deployment on less powerful hardware. The process allows the small model to retain the large model\\'s performance.\\n\\nThe second result is about \"증류\" (distillation in a general sense), which is a physical separation method. But that\\'s not relevant here since the user is asking about the machine learning concept. So I can ignore that one.\\n\\nI should focus on the first result. The answer should explain what knowledge distillation is, its purpose (transferring knowledge from big to small models), benefits (efficiency, deployment on mobile devices), and applications (object detection, NLP, etc.). Need to make sure it\\'s concise and in natural Korean without technical jargon where possible.\\n\\nCheck if there are any other details in the summary. It also mentions that it\\'s used in various fields like object detection, acoustic models, NLP, and even graph neural networks. That\\'s useful to include.\\n\\nNo other functions were called, so the answer is based solely on the wiki_search result. Since the information is present, I don\\'t need to say \"I don\\'t know.\"\\n'}, response_metadata={'token_usage': {'completion_tokens': 480, 'prompt_tokens': 1495, 'total_tokens': 1975, 'completion_time': 1.003220038, 'prompt_time': 0.320871954, 'queue_time': 0.07646240700000001, 'total_time': 1.324091992}, 'model_name': 'qwen/qwen3-32b', 'system_fingerprint': 'fp_f17c2eb555', 'service_tier': 'on_demand', 'finish_reason': 'stop', 'logprobs': None}, id='run--82ab3241-375b-435a-ae8b-3e579a2038da-0', usage_metadata={'input_tokens': 1495, 'output_tokens': 480, 'total_tokens': 1975})]}"
      ]
     },
     "execution_count": 12,
     "metadata": {},
     "output_type": "execute_result"
    }
   ],
   "source": [
    "\n",
    "# Example of how to run it (assuming the rest of the code is defined)\n",
    "async def run_example():\n",
    "    try:\n",
    "        query = \"knowledge distillation\"\n",
    "        result = await main(tools=sel_tools, query=query)\n",
    "        return result\n",
    "    except Exception as e:\n",
    "        print(f\"An error occurred: {e}\")\n",
    "        return None\n",
    "\n",
    "result = asyncio.run(run_example())\n",
    "result"
   ]
  },
  {
   "cell_type": "code",
   "execution_count": 13,
   "id": "d51b886e",
   "metadata": {},
   "outputs": [
    {
     "name": "stdout",
     "output_type": "stream",
     "text": [
      "Okay, the user asked about \"knowledge distillation.\" Let me think about how to approach this.\n",
      "\n",
      "First, I need to recall what knowledge distillation is. From what I remember, it's a technique in machine learning where a smaller model, called the student model, is trained to mimic the behavior of a larger, more complex model known as the teacher model. The idea is to transfer the knowledge from the teacher to the student so that the student can achieve similar performance but with lower computational costs.\n",
      "\n",
      "But wait, maybe I should verify this. Let me consider using the wiki_search function to get a concise definition. The user might want a clear explanation without too much jargon. Alternatively, if the safety_search or tech_paper_search functions have relevant information, those could provide more detailed insights, especially if there are recent advancements or applications in technical papers.\n",
      "\n",
      "Let me check the tools available. The wiki_search function takes a query parameter. If I use that with \"knowledge distillation,\" it should fetch a general overview. The tech_paper_search might give more in-depth academic perspectives. However, since the user's query is straightforward, maybe starting with wiki_search is sufficient.\n",
      "\n",
      "Wait, the user hasn't specified if they need academic papers or just a general explanation. Since the question is general, I'll proceed with wiki_search first. If the result is insufficient, I can then use tech_paper_search for more details. Let me call wiki_search with the query \"knowledge distillation.\"\n",
      "\n"
     ]
    }
   ],
   "source": [
    "print(result[\"messages\"][1].additional_kwargs[\"reasoning_content\"])"
   ]
  },
  {
   "cell_type": "code",
   "execution_count": 14,
   "id": "69a1ef79",
   "metadata": {},
   "outputs": [
    {
     "data": {
      "text/plain": [
       "'wiki_search'"
      ]
     },
     "execution_count": 14,
     "metadata": {},
     "output_type": "execute_result"
    }
   ],
   "source": [
    "result[\"messages\"][1].additional_kwargs[\"tool_calls\"][0][\"function\"][\"name\"]"
   ]
  },
  {
   "cell_type": "code",
   "execution_count": 15,
   "id": "d9a54049",
   "metadata": {},
   "outputs": [
    {
     "data": {
      "text/plain": [
       "'{\\n  \"results\": [\\n    {\\n      \"Page\": \"지식 증류\",\\n      \"Summary\": \"지식 증류(知識蒸溜, knowledge distillation)는 지식을 증류한다는 뜻으로 서로 다른 기계학습 모델의 지식을 전하는 기법이다. 기계 학습에서 지식 증류 또는 모델 증류는 큰 모델에서 작은 모델로 지식을 전달하는 프로세스이다. 대규모 모델(예: 매우 심층적인 신경망 또는 여러 모델의 앙상블)은 소규모 모델보다 지식 용량이 높지만 이 용량이 완전히 활용되지 않을 수 있다. 모델이 지식 용량을 거의 활용하지 않더라도 모델을 평가하는 데 계산 비용이 많이 들 수 있다. 지식 증류는 유효성 손실 없이 큰 모델의 지식을 작은 모델로 이전한다. 소형 모델은 평가 비용이 저렴하므로 덜 강력한 하드웨어(예: 모바일 장치)에 배포할 수 있다. 지식 증류는 객체 감지, 음향 모델 및 자연어 처리와 같은 기계 학습의 여러 응용 분야에서 성공적으로 사용되었다. 최근에는 그리드가 아닌 데이터에 적용 가능한 그래프 신경망에도 도입되었다.\"\\n    },\\n    {\\n      \"Page\": \"증류\",\\n      \"Summary\": \"증류(蒸溜)는 상대휘발도(끓는점)의 차이를 이용하여 액체 상태의 혼합물을 분리하는 방법이다. 두 혼합물의 화학 반응 없이 물리적인 분리가 이루어지는 경우를 말한다. 영리적인 목적의 증류는 석유를 증류하여 휘발유, 경유, 등유와 같은 여러 종류의 연료로 분리하는 데에서부터, 공기를 증류하여 아르곤과 같은 특수한 기체를 얻는 데 이르기까지 광범위하게 사용된다. 고체와 액체의 혼합물은 무게, 입자의 크기, 용해도의 차이 등을 이용하여 분리시킬 수 있지만 물과 에틸알코올처럼 액체와 액체의 혼합물을 분리시킬 때나 소금물에서 물만을 분리해내는 경우 등은 다른 방법이 필요하다. 물질은 각각 일정한 끓는점을 가지고 있다. 따라서, 끓는점의 차이가 있는 혼합물을 가열하면 끓는점이 낮은 것이 먼저 증기가 되어 나오므로 이것을 냉각시켜 액체로 환원하여 모으면 분리시킬 수 있다. 이것을 증류라고 한다. 물의 끓는점은 1기압하에서 100 °C, 메탄올(메틸알코올)은 64.7 °C이므로 이 혼합물을 기열하면 메탄올이 먼저 증기가 되어 나온다. 단, 물도 다소 섞여 나오므로 한번의 증류로 완전히 분리하기는 어렵다. 처음에는 메탄올의 끓는점 부근의 온도 범위 내에서 나오는 증기를 모으고, 이것을 몇 번 되풀이하여 증류하면 차차 순수한 것을 얻을 수 있다. 이것을 재증류라고 한다. 증류의 초기에 나오는 증기에는 휘발성이 큰 불순물이나 증류 장치 내의 불순물이 섞여서 나오므로 이 부분을 버린다. 이것을 전류분이라고 한다. 또, 증류 플라스크 속의 액체를 완전히 증류하면 남아 있는 비휘발성인 불순물이 섞여 나올 가능성이 있으므로 조금 남겨서 버린다. 이것을 후류분이라고 한다.\"\\n    }\\n  ]\\n}'"
      ]
     },
     "execution_count": 15,
     "metadata": {},
     "output_type": "execute_result"
    }
   ],
   "source": [
    "result[\"messages\"][2].content"
   ]
  },
  {
   "cell_type": "code",
   "execution_count": 16,
   "id": "1300a315",
   "metadata": {},
   "outputs": [
    {
     "name": "stdout",
     "output_type": "stream",
     "text": [
      "지식 증류(knowledge distillation)는 기계 학습에서 대규모 모델(예: 심층 신경망 또는 앙상블 모델)이 소유한 지식을 소형 모델로 이전하는 기법입니다. 이 과정을 통해 소형 모델은 큰 모델의 성능을 유지하면서도 계산 비용이 낮아져 모바일 장치 등 하드웨어 자원이 제한된 환경에서도 효율적으로 사용할 수 있습니다. 주요 응용 분야로는 객체 감지, 음향 모델, 자연어 처리 등이 있으며, 최근에는 그래프 신경망에도 확장되어 적용되고 있습니다.\n"
     ]
    }
   ],
   "source": [
    "print(result[\"messages\"][-1].content)"
   ]
  },
  {
   "cell_type": "code",
   "execution_count": null,
   "id": "28f1f556",
   "metadata": {},
   "outputs": [],
   "source": []
  },
  {
   "cell_type": "code",
   "execution_count": null,
   "id": "566d7498",
   "metadata": {},
   "outputs": [],
   "source": []
  }
 ],
 "metadata": {
  "kernelspec": {
   "display_name": "Agent_backend",
   "language": "python",
   "name": "python3"
  },
  "language_info": {
   "codemirror_mode": {
    "name": "ipython",
    "version": 3
   },
   "file_extension": ".py",
   "mimetype": "text/x-python",
   "name": "python",
   "nbconvert_exporter": "python",
   "pygments_lexer": "ipython3",
   "version": "3.12.6"
  }
 },
 "nbformat": 4,
 "nbformat_minor": 5
}
